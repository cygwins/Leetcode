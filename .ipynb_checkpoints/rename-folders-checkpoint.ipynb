{
 "cells": [
  {
   "cell_type": "code",
   "execution_count": 41,
   "metadata": {
    "collapsed": false,
    "scrolled": true
   },
   "outputs": [],
   "source": [
    "import os\n",
    "import re\n",
    "import subprocess\n",
    "import urllib.request\n",
    "from bs4 import BeautifulSoup\n",
    "from contextlib import closing\n",
    "from selenium.webdriver import Chrome\n",
    "from selenium.webdriver.support.ui import WebDriverWait\n",
    "\n",
    "# get url-name-of-problem by search on leetcode.com by problem id\n",
    "def getURL(num, name):\n",
    "    url = \"https://leetcode.com/problemset/all/?search=\" + num\n",
    "    with closing(Chrome()) as browser:\n",
    "        browser.get(url)\n",
    "        # wait for the page to load\n",
    "        WebDriverWait(browser, timeout=15).until(\n",
    "            lambda x: x.find_element_by_class_name(\"table-responsive\"))\n",
    "        prob = browser.find_element_by_class_name(\"question-list-base\").find_element_by_partial_link_text(name)\n",
    "        return num + prob.get_attribute(\"href\").split('/')[-1]"
   ]
  },
  {
   "cell_type": "code",
   "execution_count": 50,
   "metadata": {
    "collapsed": false
   },
   "outputs": [],
   "source": [
    "# get all folder names\n",
    "dirs = [f for f in next(os.walk(\".\"))[1] if re.match(r'^[0-9]{1,4}\\..*', f)]\n",
    "dirs.sort()\n",
    "# convert camelCase to space Delimited\n",
    "search_list = [(dir, dir.split('.')[0], \\\n",
    "                re.sub(r'((?<=[a-z])[A-Z])', r' \\1', dir.split('.')[1]).split(' ')[0]) for dir in dirs]"
   ]
  },
  {
   "cell_type": "code",
   "execution_count": 49,
   "metadata": {
    "collapsed": false
   },
   "outputs": [
    {
     "data": {
      "text/plain": [
       "0"
      ]
     },
     "execution_count": 49,
     "metadata": {},
     "output_type": "execute_result"
    }
   ],
   "source": [
    "for d in dirs:\n",
    "    subprocess.call([\"mv\", \"-iv\", d[0], getURL(d[1],d[2])])"
   ]
  }
 ],
 "metadata": {
  "anaconda-cloud": {},
  "kernelspec": {
   "display_name": "Python 3",
   "language": "python",
   "name": "python3"
  },
  "language_info": {
   "codemirror_mode": {
    "name": "ipython",
    "version": 3
   },
   "file_extension": ".py",
   "mimetype": "text/x-python",
   "name": "python",
   "nbconvert_exporter": "python",
   "pygments_lexer": "ipython3",
   "version": "3.5.2"
  }
 },
 "nbformat": 4,
 "nbformat_minor": 1
}
